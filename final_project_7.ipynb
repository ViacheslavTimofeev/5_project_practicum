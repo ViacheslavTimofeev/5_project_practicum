{
 "cells": [
  {
   "cell_type": "markdown",
   "metadata": {},
   "source": [
    "# Выбор локации для скважины"
   ]
  },
  {
   "cell_type": "markdown",
   "metadata": {},
   "source": [
    "Допустим, вы работаете в добывающей компании «ГлавРосГосНефть». Нужно решить, где бурить новую скважину.\n",
    "\n",
    "Вам предоставлены пробы нефти в трёх регионах: в каждом 10 000 месторождений, где измерили качество нефти и объём её запасов. Постройте модель машинного обучения, которая поможет определить регион, где добыча принесёт наибольшую прибыль. Проанализируйте возможную прибыль и риски техникой *Bootstrap.*\n",
    "\n",
    "Шаги для выбора локации:\n",
    "\n",
    "- В избранном регионе ищут месторождения, для каждого определяют значения признаков;\n",
    "- Строят модель и оценивают объём запасов;\n",
    "- Выбирают месторождения с самым высокими оценками значений. Количество месторождений зависит от бюджета компании и стоимости разработки одной скважины;\n",
    "- Прибыль равна суммарной прибыли отобранных месторождений."
   ]
  },
  {
   "cell_type": "markdown",
   "metadata": {},
   "source": [
    "## Загрузка и подготовка данных"
   ]
  },
  {
   "cell_type": "code",
   "execution_count": 58,
   "metadata": {},
   "outputs": [
    {
     "data": {
      "text/plain": [
       "'\\nfeatures_train_0, features_valid_0, target_train_0, target_valid_0 = train_test_split(features_0, target_0, test_size=0.25, random_state=state)\\nfeatures_train_1, features_valid_1, target_train_1, target_valid_1 = train_test_split(features_1, target_1, test_size=0.25, random_state=state)\\nfeatures_train_2, features_valid_2, target_train_2, target_valid_2 = train_test_split(features_2, target_2, test_size=0.25, random_state=state)\\n'"
      ]
     },
     "execution_count": 58,
     "metadata": {},
     "output_type": "execute_result"
    }
   ],
   "source": [
    "import pandas as pd\n",
    "from sklearn.model_selection import train_test_split\n",
    "import numpy as np\n",
    "from sklearn.linear_model import LinearRegression\n",
    "from sklearn.metrics import mean_squared_error\n",
    "\n",
    "df_0 = pd.read_csv('D:/geo_data_0.csv')\n",
    "df_1 = pd.read_csv('D:/geo_data_1.csv')\n",
    "df_2 = pd.read_csv('D:/geo_data_2.csv')\n",
    "\n",
    "features_0 = df_0.drop(['product', 'id'], axis=1)\n",
    "target_0 = df_0['product']\n",
    "features_1 = df_1.drop(['product', 'id'], axis=1)\n",
    "target_1 = df_1['product']\n",
    "features_2 = df_2.drop(['product', 'id'], axis=1)\n",
    "target_2 = df_2['product']\n",
    "\n",
    "state = np.random.RandomState(0)\n",
    "'''\n",
    "features_train_0, features_valid_0, target_train_0, target_valid_0 = train_test_split(features_0, target_0, test_size=0.25, random_state=state)\n",
    "features_train_1, features_valid_1, target_train_1, target_valid_1 = train_test_split(features_1, target_1, test_size=0.25, random_state=state)\n",
    "features_train_2, features_valid_2, target_train_2, target_valid_2 = train_test_split(features_2, target_2, test_size=0.25, random_state=state)\n",
    "'''"
   ]
  },
  {
   "cell_type": "markdown",
   "metadata": {
    "tags": []
   },
   "source": [
    "## Обучение и проверка модели"
   ]
  },
  {
   "cell_type": "code",
   "execution_count": 59,
   "metadata": {},
   "outputs": [
    {
     "name": "stdout",
     "output_type": "stream",
     "text": [
      "       real_product  predicted_product\n",
      "3582      49.723143          95.303891\n",
      "60498     10.583795          95.098407\n",
      "53227    139.110613         106.702273\n",
      "21333     85.109875          96.740059\n",
      "3885      39.726827          97.703381\n",
      "RMSE - 37.48100896950594\n",
      "Средний запас запасанного сырья - 92.27144852242301\n",
      "       real_product  predicted_product\n",
      "10655    107.813044         107.659247\n",
      "29762     84.038886          82.623658\n",
      "63784      3.179103           3.708318\n",
      "10594     80.859783          81.229758\n",
      "20934      0.000000           0.687698\n",
      "RMSE - 0.89570180076533\n",
      "Средний запас запасанного сырья - 69.02446949104798\n",
      "       real_product  predicted_product\n",
      "16037      1.525959          97.886113\n",
      "17477     39.747977          53.709118\n",
      "92520     94.979266         110.286626\n",
      "48861    126.430363         114.525841\n",
      "47878    141.620720          83.728522\n",
      "RMSE - 39.98689683154368\n",
      "Средний запас запасанного сырья - 94.903381366729\n"
     ]
    },
    {
     "data": {
      "text/plain": [
       "\"\\nmodel_0 = LinearRegression()\\nmodel_0.fit(features_train_0, target_train_0)\\npredict_0 = model_0.predict(features_valid_0)\\nrmse_0 = mean_squared_error(target_valid_0, predict_0) ** 0.5\\nprint('mean product prediction region 0:', predict_0.mean())\\nprint('rmse region 0:', rmse_0)\\n\\nmodel_1 = LinearRegression()\\nmodel_1.fit(features_train_1, target_train_1)\\npredict_1 = model_1.predict(features_valid_1)\\nrmse_1 = mean_squared_error(target_valid_1, predict_1) ** 0.5\\nprint('mean product prediction region 1:', predict_1.mean())\\nprint('rmse region 1:', rmse_1)\\n\\nmodel_2 = LinearRegression()\\nmodel_2.fit(features_train_2, target_train_2)\\npredict_2 = model_2.predict(features_valid_2)\\nrmse_2 = mean_squared_error(target_valid_2, predict_2) ** 0.5\\nprint('mean product prediction region 2:', predict_2.mean())\\nprint('rmse region 2:', rmse_2)\\n\\n# самый высокий показатель предсказанного количества сырья в регионе '2', но и отклонение там также самое высокое\\n# RMSE региона '1' очень низко из-за очень часто повторяющихся значений, среднее предсказанное сырья самое низкое среди всех\\n# регион '0' очень схож с регионом '2'\\n\""
      ]
     },
     "execution_count": 59,
     "metadata": {},
     "output_type": "execute_result"
    }
   ],
   "source": [
    "model = LinearRegression()\n",
    "\n",
    "def oil_predict(df, target_name):\n",
    "    features = df.drop([target_name, 'id'] , axis=1)\n",
    "    target = df[target_name]\n",
    "    \n",
    "    features_train, features_valid, target_train, target_valid = train_test_split(features, target, test_size=0.25, random_state=state)\n",
    "    \n",
    "    model.fit(features_train, target_train)\n",
    "    predicted_target = model.predict(features_valid)\n",
    "    data = {'real_product' : target_valid, 'predicted_product' : predicted_target}\n",
    "    data_frame = pd.DataFrame(data, columns = ['real_product', 'predicted_product'])\n",
    "    rmse = mean_squared_error(target_valid, predicted_target) ** 0.5\n",
    "    mean = data_frame['predicted_product'].mean()\n",
    "    oil_sum = data_frame['predicted_product'].sum()\n",
    "    return data_frame, rmse, mean, oil_sum\n",
    "\n",
    "df_0_predicted, df_0_rmse, df_0_predicted_mean, df_0_predicted_sum = oil_predict(df_0, 'product')\n",
    "print(df_0_predicted.head())\n",
    "print('RMSE -', df_0_rmse)\n",
    "print('Средний запас запасанного сырья -', df_0_predicted_mean)\n",
    "\n",
    "df_1_predicted, df_1_rmse, df_1_predicted_mean, df_1_predicted_sum = oil_predict(df_1, 'product')\n",
    "print(df_1_predicted.head())\n",
    "print('RMSE -', df_1_rmse)\n",
    "print('Средний запас запасанного сырья -', df_1_predicted_mean)\n",
    "\n",
    "df_2_predicted, df_2_rmse, df_2_predicted_mean, df_2_predicted_sum = oil_predict(df_2, 'product')\n",
    "print(df_2_predicted.head())\n",
    "print('RMSE -', df_2_rmse)\n",
    "print('Средний запас запасанного сырья -', df_2_predicted_mean)\n",
    "'''\n",
    "model_0 = LinearRegression()\n",
    "model_0.fit(features_train_0, target_train_0)\n",
    "predict_0 = model_0.predict(features_valid_0)\n",
    "rmse_0 = mean_squared_error(target_valid_0, predict_0) ** 0.5\n",
    "print('mean product prediction region 0:', predict_0.mean())\n",
    "print('rmse region 0:', rmse_0)\n",
    "\n",
    "model_1 = LinearRegression()\n",
    "model_1.fit(features_train_1, target_train_1)\n",
    "predict_1 = model_1.predict(features_valid_1)\n",
    "rmse_1 = mean_squared_error(target_valid_1, predict_1) ** 0.5\n",
    "print('mean product prediction region 1:', predict_1.mean())\n",
    "print('rmse region 1:', rmse_1)\n",
    "\n",
    "model_2 = LinearRegression()\n",
    "model_2.fit(features_train_2, target_train_2)\n",
    "predict_2 = model_2.predict(features_valid_2)\n",
    "rmse_2 = mean_squared_error(target_valid_2, predict_2) ** 0.5\n",
    "print('mean product prediction region 2:', predict_2.mean())\n",
    "print('rmse region 2:', rmse_2)\n",
    "\n",
    "# самый высокий показатель предсказанного количества сырья в регионе '2', но и отклонение там также самое высокое\n",
    "# RMSE региона '1' очень низко из-за очень часто повторяющихся значений, среднее предсказанное сырья самое низкое среди всех\n",
    "# регион '0' очень схож с регионом '2'\n",
    "'''"
   ]
  },
  {
   "cell_type": "markdown",
   "metadata": {},
   "source": [
    "## Подготовка к расчёту прибыли"
   ]
  },
  {
   "cell_type": "code",
   "execution_count": 60,
   "metadata": {},
   "outputs": [
    {
     "name": "stdout",
     "output_type": "stream",
     "text": [
      "Средняя прибыль на лучшую точку - 50000.0 тыс.руб.\n",
      "Средний объем нефти на точку - 111.11111111111111 тыс. барелей\n",
      "Средний объем нефти на регион - 22222.222222222223 тыс. барелей\n"
     ]
    }
   ],
   "source": [
    "budget = 1e+07 #Мы расчитываем прибыль в тысячах рублей за тысячу барелей, поэтому 1 милиард сохранен таким образом\n",
    "chosen_points = 500\n",
    "best_points = 200\n",
    "price_per_barrel = 450\n",
    "average_profit_per_point = budget / best_points\n",
    "print('Средняя прибыль на лучшую точку -', average_profit_per_point, 'тыс.руб.')\n",
    "\n",
    "average_barrels_per_point = average_profit_per_point  / price_per_barrel\n",
    "print('Средний объем нефти на точку -',average_barrels_per_point, 'тыс. барелей')\n",
    "\n",
    "average_barrels = budget / price_per_barrel\n",
    "print('Средний объем нефти на регион -',average_barrels, 'тыс. барелей')"
   ]
  },
  {
   "cell_type": "markdown",
   "metadata": {},
   "source": [
    "## Расчёт прибыли и рисков "
   ]
  },
  {
   "cell_type": "code",
   "execution_count": 61,
   "metadata": {},
   "outputs": [
    {
     "name": "stdout",
     "output_type": "stream",
     "text": [
      "Данные по первому региону.\n",
      "Средняя прибыль по региону = 454086.36 тыс.руб.\n",
      "95% доверительный интервал от -94757.43 до 968007.32 тыс.руб.\n",
      "Процент риска 5.30%\n",
      "Данные по первому региону.\n",
      "Средняя прибыль по региону = 459524.07 тыс.руб.\n",
      "95% доверительный интервал от 62332.91 до 879417.91 тыс.руб.\n",
      "Процент риска 1.50%\n",
      "Данные по первому региону.\n",
      "Средняя прибыль по региону = 419226.80 тыс.руб.\n",
      "95% доверительный интервал от -103901.35 до 927579.81 тыс.руб.\n",
      "Процент риска 5.20%\n"
     ]
    }
   ],
   "source": [
    "predict_0 = pd.Series(data=predict_0)\n",
    "predict_1 = pd.Series(data=predict_1)\n",
    "predict_2 = pd.Series(data=predict_2)\n",
    "\n",
    "def oil_profit_calculation(target, probabilities, count):\n",
    "    probs_sorted = probabilities.sort_values(ascending=False)\n",
    "    selected = target[probs_sorted.index][:count]\n",
    "    return price_per_barrel * selected.sum() - budget\n",
    "\n",
    "state = np.random.RandomState(5062020)\n",
    "def bootstrap_1000(target, probs):\n",
    "    values=[]\n",
    "    lost = 0\n",
    "    for i in range(1000):\n",
    "        target_sample = target.sample(replace=True, random_state=state, n=chosen_points)\n",
    "        probs_sample = probs[target_sample.index]\n",
    "        profit = oil_profit_calculation(target, probs_sample, best_points)\n",
    "        if profit < 0:\n",
    "            lost +=1\n",
    "        values.append(profit)\n",
    "        \n",
    "    values = pd.Series(values)\n",
    "    lower = values.quantile(0.025)\n",
    "    upper = values.quantile(0.975)\n",
    "    average = values.mean()\n",
    "    risk = lost / 1000\n",
    "    return average, lower, upper, risk\n",
    "'''\n",
    "bootstrap_1000(df_0_predicted['real_product'], df_0_predicted['predicted_product'])\n",
    "bootstrap_1000(df_1_predicted['real_product'], df_1_predicted['predicted_product'])\n",
    "bootstrap_1000(df_2_predicted['real_product'], df_2_predicted['predicted_product'])\n",
    "'''\n",
    "average_0, lower_0, upper_0, risk_0 = bootstrap_1000(df_0_predicted['real_product'], df_0_predicted['predicted_product'])\n",
    "print('Данные по первому региону.')\n",
    "print('Средняя прибыль по региону = {:.2f} тыс.руб.'.format(average_0))\n",
    "print('95% доверительный интервал от {:.2f} до {:.2f} тыс.руб.'.format(lower_0, upper_0))\n",
    "print('Процент риска {:.2%}'.format(risk_0))\n",
    "\n",
    "average_1, lower_1, upper_1, risk_1 = bootstrap_1000(df_1_predicted['real_product'], df_1_predicted['predicted_product'])\n",
    "print('Данные по первому региону.')\n",
    "print('Средняя прибыль по региону = {:.2f} тыс.руб.'.format(average_1))\n",
    "print('95% доверительный интервал от {:.2f} до {:.2f} тыс.руб.'.format(lower_1, upper_1))\n",
    "print('Процент риска {:.2%}'.format(risk_1))\n",
    "\n",
    "average_2, lower_2, upper_2, risk_2 = bootstrap_1000(df_2_predicted['real_product'], df_2_predicted['predicted_product'])\n",
    "print('Данные по первому региону.')\n",
    "print('Средняя прибыль по региону = {:.2f} тыс.руб.'.format(average_2))\n",
    "print('95% доверительный интервал от {:.2f} до {:.2f} тыс.руб.'.format(lower_2, upper_2))\n",
    "print('Процент риска {:.2%}'.format(risk_2))\n",
    "# commit git test"
   ]
  },
  {
   "cell_type": "markdown",
   "metadata": {},
   "source": [
    "## Чек-лист готовности проекта"
   ]
  },
  {
   "cell_type": "markdown",
   "metadata": {},
   "source": [
    "Поставьте 'x' в выполненных пунктах. Далее нажмите Shift+Enter."
   ]
  },
  {
   "cell_type": "markdown",
   "metadata": {},
   "source": [
    "- [x]  Jupyter Notebook открыт\n",
    "- [ ]  Весь код выполняется без ошибок\n",
    "- [ ]  Ячейки с кодом расположены в порядке исполнения\n",
    "- [ ]  Выполнен шаг 1: данные подготовлены\n",
    "- [ ]  Выполнен шаг 2: модели обучены и проверены\n",
    "    - [ ]  Данные корректно разбиты на обучающую и валидационную выборки\n",
    "    - [ ]  Модели обучены, предсказания сделаны\n",
    "    - [ ]  Предсказания и правильные ответы на валидационной выборке сохранены\n",
    "    - [ ]  На экране напечатаны результаты\n",
    "    - [ ]  Сделаны выводы\n",
    "- [ ]  Выполнен шаг 3: проведена подготовка к расчёту прибыли\n",
    "    - [ ]  Для всех ключевых значений созданы константы Python\n",
    "    - [ ]  Посчитано минимальное среднее количество продукта в месторождениях региона, достаточное для разработки\n",
    "    - [ ]  По предыдущему пункту сделаны выводы\n",
    "    - [ ]  Написана функция расчёта прибыли\n",
    "- [ ]  Выполнен шаг 4: посчитаны риски и прибыль\n",
    "    - [ ]  Проведена процедура *Bootstrap*\n",
    "    - [ ]  Все параметры бутстрепа соответствуют условию\n",
    "    - [ ]  Найдены все нужные величины\n",
    "    - [ ]  Предложен регион для разработки месторождения\n",
    "    - [ ]  Выбор региона обоснован"
   ]
  },
  {
   "cell_type": "code",
   "execution_count": null,
   "metadata": {},
   "outputs": [],
   "source": []
  }
 ],
 "metadata": {
  "kernelspec": {
   "display_name": "Python 3 (ipykernel)",
   "language": "python",
   "name": "python3"
  },
  "language_info": {
   "codemirror_mode": {
    "name": "ipython",
    "version": 3
   },
   "file_extension": ".py",
   "mimetype": "text/x-python",
   "name": "python",
   "nbconvert_exporter": "python",
   "pygments_lexer": "ipython3",
   "version": "3.9.16"
  },
  "toc": {
   "base_numbering": 1,
   "nav_menu": {},
   "number_sections": true,
   "sideBar": true,
   "skip_h1_title": true,
   "title_cell": "Table of Contents",
   "title_sidebar": "Contents",
   "toc_cell": false,
   "toc_position": {},
   "toc_section_display": true,
   "toc_window_display": false
  }
 },
 "nbformat": 4,
 "nbformat_minor": 4
}
